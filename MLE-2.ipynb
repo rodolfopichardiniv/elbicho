{
  "nbformat": 4,
  "nbformat_minor": 0,
  "metadata": {
    "colab": {
      "provenance": []
    },
    "kernelspec": {
      "name": "python3",
      "display_name": "Python 3"
    },
    "language_info": {
      "name": "python"
    }
  },
  "cells": [
    {
      "cell_type": "code",
      "execution_count": null,
      "metadata": {
        "id": "MUhm6or6LuKs"
      },
      "outputs": [],
      "source": [
        "import seaborn as sns\n",
        "#Rodolfo Pichardini"
      ]
    },
    {
      "cell_type": "markdown",
      "source": [
        "Investigación:\n",
        "\n",
        "a. Menciona 5 aplicaciones de la variable aleatoria exponencial.\n",
        "\n",
        "b. ¿Qué aplicaciones de la exponencial podrían ser de utilidad en tu carrera?\n",
        "\n",
        "Crea una muestra aleatoria de 1000 datos tomados a partir de una muestra aleatoria exponencial.\n",
        "\n",
        "Calcula el MLE para tu conjunto de datos."
      ],
      "metadata": {
        "id": "gx0coAMVO0N0"
      }
    },
    {
      "cell_type": "code",
      "source": [],
      "metadata": {
        "id": "ZukW1djfO2Dr"
      },
      "execution_count": null,
      "outputs": []
    },
    {
      "cell_type": "markdown",
      "source": [
        "a: 1) Inversión en interés compuesto\n",
        "\n",
        "2) Crecimiento de unas bacterias\n",
        "\n",
        "3) El crecimiento de una población\n",
        "\n",
        "4) La expansión de una pandemia\n",
        "\n",
        "5) La viralidad de un video en tiktok"
      ],
      "metadata": {
        "id": "i3xgvYmjO7uD"
      }
    },
    {
      "cell_type": "markdown",
      "source": [
        "b) El crecimiento de una startup de tecnología (relacionado a temas de ML y AI, que son temas de nuestra carrera), donde las utilidades se reinvierten y el hecho de que sea tecnología, su crecimiento es exponencial."
      ],
      "metadata": {
        "id": "rXIEeQ2VQs0p"
      }
    },
    {
      "cell_type": "code",
      "source": [
        "from scipy.stats import bernoulli\n",
        "import numpy as np\n",
        "#calculos formales\n",
        "import sympy\n",
        "from sympy.abc import x, z, n\n",
        "#importamos las librerías necesitadas"
      ],
      "metadata": {
        "id": "nMGELdRBQkL6"
      },
      "execution_count": null,
      "outputs": []
    },
    {
      "cell_type": "code",
      "source": [
        "PARAMETRO = 10\n",
        "muestra = np.random.exponential(PARAMETRO,100)\n",
        "#creamos una muestra de numeros randoms y que estén organizados en manera exponencial"
      ],
      "metadata": {
        "id": "U5WNUIOuXsM5"
      },
      "execution_count": null,
      "outputs": []
    },
    {
      "cell_type": "code",
      "source": [
        "s=sum(muestra) #suma de la muestra"
      ],
      "metadata": {
        "id": "eGBK-xh_ZK7_"
      },
      "execution_count": null,
      "outputs": []
    },
    {
      "cell_type": "code",
      "source": [
        "l = sympy.symbols(\"l\", positive = True)\n",
        "f = (1/l**100)*exp(-s/l)\n",
        "f\n",
        "#la formula parte de la MLE"
      ],
      "metadata": {
        "colab": {
          "base_uri": "https://localhost:8080/",
          "height": 56
        },
        "id": "SKc6LffvY6vQ",
        "outputId": "6b7ae6b7-754f-4020-8a55-c4c1809c9e2e"
      },
      "execution_count": null,
      "outputs": [
        {
          "output_type": "execute_result",
          "data": {
            "text/plain": [
              "exp(-1076.98887708572/l)/l**100"
            ],
            "text/latex": "$\\displaystyle \\frac{e^{- \\frac{1076.98887708572}{l}}}{l^{100}}$"
          },
          "metadata": {},
          "execution_count": 21
        }
      ]
    },
    {
      "cell_type": "code",
      "source": [
        "suma = sum(muestra)\n",
        "\n",
        "from sympy import exp\n",
        "l = sympy.symbols(\"l\", positive = True)\n",
        "f = (1/l**100)*exp(-s/l)\n",
        "logf = sympy.expand_log(sympy.log(f))\n",
        "lhat = sympy.solve(sympy.diff(logf,l),l)[0]\n",
        "#definimos el lhat que es la solucion de el estimador MLE con las formulas mencionadas arribas.\n",
        "print(\"El estimador MLE es\", lhat)\n"
      ],
      "metadata": {
        "colab": {
          "base_uri": "https://localhost:8080/"
        },
        "id": "8alR8j5OT8nL",
        "outputId": "b0471be0-29d4-4839-d3ef-cb68bdf3d5b6"
      },
      "execution_count": null,
      "outputs": [
        {
          "output_type": "stream",
          "name": "stdout",
          "text": [
            "El estimador MLE es 10.7698887708572\n"
          ]
        }
      ]
    },
    {
      "cell_type": "markdown",
      "source": [
        "Podemos concluir que el MLE es necesario para graficas exponenciales, como las mencionandas anteriormente, y se puede aplicar ademas a temas financieros, en nuestras inversiones de vida, o ya sea en ventas de nuestra futura empresa, si el crecimiento es lineal o exponencial, entonces enfocarnos en hacer un sistema y esquema donde las vetnas de nuestra empresa sea exponencial, donde haya ingresos recurrentes que crezcan exponencialmente."
      ],
      "metadata": {
        "id": "FTlpf2ZBzE51"
      }
    },
    {
      "cell_type": "code",
      "source": [],
      "metadata": {
        "id": "1hi2-FuzXaFh"
      },
      "execution_count": null,
      "outputs": []
    }
  ]
}