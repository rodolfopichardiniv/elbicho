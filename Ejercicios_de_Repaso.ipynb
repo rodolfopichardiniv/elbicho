{
  "nbformat": 4,
  "nbformat_minor": 0,
  "metadata": {
    "colab": {
      "provenance": [],
      "collapsed_sections": []
    },
    "kernelspec": {
      "name": "python3",
      "display_name": "Python 3"
    },
    "language_info": {
      "name": "python"
    }
  },
  "cells": [
    {
      "cell_type": "markdown",
      "source": [
        "##Ejercicios Repaso\n",
        "###rodolfo pichardini\n"
      ],
      "metadata": {
        "id": "h2WrLZYUKoE0"
      }
    },
    {
      "cell_type": "markdown",
      "source": [
        "1.- En un salón de clases hay 60 alumnos. 30 de los alumnos estudian francés, 35 estudian ruso y 5 estudian francés y ruso. Dibuja un diagrama de Venn y calcula la probabilidad de que si se elige un estudiante al azar, éste estudie solamente francés."
      ],
      "metadata": {
        "id": "gLZGqatuKtSG"
      }
    },
    {
      "cell_type": "code",
      "source": [
        "from matplotlib_venn import venn2, venn2_circles, venn2_unweighted\n",
        "from matplotlib_venn import venn3, venn3_circles\n",
        "from matplotlib import pyplot as plt"
      ],
      "metadata": {
        "id": "1OzUjws-TE93"
      },
      "execution_count": null,
      "outputs": []
    },
    {
      "cell_type": "code",
      "source": [
        "venn2(subsets = (25, 30, 5), set_labels= ('Frances', 'Aleman'))"
      ],
      "metadata": {
        "colab": {
          "base_uri": "https://localhost:8080/",
          "height": 265
        },
        "id": "jwCIWa5IThtd",
        "outputId": "993938c0-31d2-4c28-f076-fdf57f6ce97f"
      },
      "execution_count": null,
      "outputs": [
        {
          "output_type": "execute_result",
          "data": {
            "text/plain": [
              "<matplotlib_venn._common.VennDiagram at 0x7f24e7253e10>"
            ]
          },
          "metadata": {},
          "execution_count": 5
        },
        {
          "output_type": "display_data",
          "data": {
            "text/plain": [
              "<Figure size 432x288 with 1 Axes>"
            ],
            "image/png": "[encoded data removed]"
          },
          "metadata": {}
        }
      ]
    },
    {
      "cell_type": "code",
      "source": [
        "ProbabilidadFrances = 25/60\n",
        "ProbabilidadFrances"
      ],
      "metadata": {
        "colab": {
          "base_uri": "https://localhost:8080/"
        },
        "id": "Sv1LInVrT5Pa",
        "outputId": "a2ab56e4-3a4c-4ab1-bf41-288bcac97734"
      },
      "execution_count": null,
      "outputs": [
        {
          "output_type": "execute_result",
          "data": {
            "text/plain": [
              "0.4166666666666667"
            ]
          },
          "metadata": {},
          "execution_count": 7
        }
      ]
    },
    {
      "cell_type": "markdown",
      "source": [
        "2.- Se lanza un dado 3 veces.\n",
        "Describe al espacio muestral.\n",
        "Calcula la probabilidad de que salga la cara 1 en el primer lanzamiento.\n",
        "Calcula la probabilidad condicional del evento cae un número par en los tres lanzamientos dado que en el primer lanzamiento cae 2.\n",
        "Consideremos el evento: \"se obtiene sol en el segundo lanzamiento\". ¿Tal evento es independiente de los eventos anteriores?"
      ],
      "metadata": {
        "id": "WkEvJ-AYKxLr"
      }
    },
    {
      "cell_type": "code",
      "source": [
        "from itertools import product"
      ],
      "metadata": {
        "id": "WzGFLYsYUIwn"
      },
      "execution_count": null,
      "outputs": []
    },
    {
      "cell_type": "code",
      "source": [
        "A = {1,2,3,4,5,6}"
      ],
      "metadata": {
        "id": "ajuhE1UvVDGb"
      },
      "execution_count": null,
      "outputs": []
    },
    {
      "cell_type": "code",
      "source": [
        "Omega = set(product (A,repeat= 3))\n",
        "Omega"
      ],
      "metadata": {
        "colab": {
          "base_uri": "https://localhost:8080/"
        },
        "id": "YZ3bMzr5UL9U",
        "outputId": "3e4e0d8a-7c68-4eee-df8f-b18147480e36"
      },
      "execution_count": null,
      "outputs": [
        {
          "output_type": "execute_result",
          "data": {
            "text/plain": [
              "{(1, 1, 1),\n",
              " (1, 1, 2),\n",
              " (1, 1, 3),\n",
              " (1, 1, 4),\n",
              " (1, 1, 5),\n",
              " (1, 1, 6),\n",
              " (1, 2, 1),\n",
              " (1, 2, 2),\n",
              " (1, 2, 3),\n",
              " (1, 2, 4),\n",
              " (1, 2, 5),\n",
              " (1, 2, 6),\n",
              " (1, 3, 1),\n",
              " (1, 3, 2),\n",
              " (1, 3, 3),\n",
              " (1, 3, 4),\n",
              " (1, 3, 5),\n",
              " (1, 3, 6),\n",
              " (1, 4, 1),\n",
              " (1, 4, 2),\n",
              " (1, 4, 3),\n",
              " (1, 4, 4),\n",
              " (1, 4, 5),\n",
              " (1, 4, 6),\n",
              " (1, 5, 1),\n",
              " (1, 5, 2),\n",
              " (1, 5, 3),\n",
              " (1, 5, 4),\n",
              " (1, 5, 5),\n",
              " (1, 5, 6),\n",
              " (1, 6, 1),\n",
              " (1, 6, 2),\n",
              " (1, 6, 3),\n",
              " (1, 6, 4),\n",
              " (1, 6, 5),\n",
              " (1, 6, 6),\n",
              " (2, 1, 1),\n",
              " (2, 1, 2),\n",
              " (2, 1, 3),\n",
              " (2, 1, 4),\n",
              " (2, 1, 5),\n",
              " (2, 1, 6),\n",
              " (2, 2, 1),\n",
              " (2, 2, 2),\n",
              " (2, 2, 3),\n",
              " (2, 2, 4),\n",
              " (2, 2, 5),\n",
              " (2, 2, 6),\n",
              " (2, 3, 1),\n",
              " (2, 3, 2),\n",
              " (2, 3, 3),\n",
              " (2, 3, 4),\n",
              " (2, 3, 5),\n",
              " (2, 3, 6),\n",
              " (2, 4, 1),\n",
              " (2, 4, 2),\n",
              " (2, 4, 3),\n",
              " (2, 4, 4),\n",
              " (2, 4, 5),\n",
              " (2, 4, 6),\n",
              " (2, 5, 1),\n",
              " (2, 5, 2),\n",
              " (2, 5, 3),\n",
              " (2, 5, 4),\n",
              " (2, 5, 5),\n",
              " (2, 5, 6),\n",
              " (2, 6, 1),\n",
              " (2, 6, 2),\n",
              " (2, 6, 3),\n",
              " (2, 6, 4),\n",
              " (2, 6, 5),\n",
              " (2, 6, 6),\n",
              " (3, 1, 1),\n",
              " (3, 1, 2),\n",
              " (3, 1, 3),\n",
              " (3, 1, 4),\n",
              " (3, 1, 5),\n",
              " (3, 1, 6),\n",
              " (3, 2, 1),\n",
              " (3, 2, 2),\n",
              " (3, 2, 3),\n",
              " (3, 2, 4),\n",
              " (3, 2, 5),\n",
              " (3, 2, 6),\n",
              " (3, 3, 1),\n",
              " (3, 3, 2),\n",
              " (3, 3, 3),\n",
              " (3, 3, 4),\n",
              " (3, 3, 5),\n",
              " (3, 3, 6),\n",
              " (3, 4, 1),\n",
              " (3, 4, 2),\n",
              " (3, 4, 3),\n",
              " (3, 4, 4),\n",
              " (3, 4, 5),\n",
              " (3, 4, 6),\n",
              " (3, 5, 1),\n",
              " (3, 5, 2),\n",
              " (3, 5, 3),\n",
              " (3, 5, 4),\n",
              " (3, 5, 5),\n",
              " (3, 5, 6),\n",
              " (3, 6, 1),\n",
              " (3, 6, 2),\n",
              " (3, 6, 3),\n",
              " (3, 6, 4),\n",
              " (3, 6, 5),\n",
              " (3, 6, 6),\n",
              " (4, 1, 1),\n",
              " (4, 1, 2),\n",
              " (4, 1, 3),\n",
              " (4, 1, 4),\n",
              " (4, 1, 5),\n",
              " (4, 1, 6),\n",
              " (4, 2, 1),\n",
              " (4, 2, 2),\n",
              " (4, 2, 3),\n",
              " (4, 2, 4),\n",
              " (4, 2, 5),\n",
              " (4, 2, 6),\n",
              " (4, 3, 1),\n",
              " (4, 3, 2),\n",
              " (4, 3, 3),\n",
              " (4, 3, 4),\n",
              " (4, 3, 5),\n",
              " (4, 3, 6),\n",
              " (4, 4, 1),\n",
              " (4, 4, 2),\n",
              " (4, 4, 3),\n",
              " (4, 4, 4),\n",
              " (4, 4, 5),\n",
              " (4, 4, 6),\n",
              " (4, 5, 1),\n",
              " (4, 5, 2),\n",
              " (4, 5, 3),\n",
              " (4, 5, 4),\n",
              " (4, 5, 5),\n",
              " (4, 5, 6),\n",
              " (4, 6, 1),\n",
              " (4, 6, 2),\n",
              " (4, 6, 3),\n",
              " (4, 6, 4),\n",
              " (4, 6, 5),\n",
              " (4, 6, 6),\n",
              " (5, 1, 1),\n",
              " (5, 1, 2),\n",
              " (5, 1, 3),\n",
              " (5, 1, 4),\n",
              " (5, 1, 5),\n",
              " (5, 1, 6),\n",
              " (5, 2, 1),\n",
              " (5, 2, 2),\n",
              " (5, 2, 3),\n",
              " (5, 2, 4),\n",
              " (5, 2, 5),\n",
              " (5, 2, 6),\n",
              " (5, 3, 1),\n",
              " (5, 3, 2),\n",
              " (5, 3, 3),\n",
              " (5, 3, 4),\n",
              " (5, 3, 5),\n",
              " (5, 3, 6),\n",
              " (5, 4, 1),\n",
              " (5, 4, 2),\n",
              " (5, 4, 3),\n",
              " (5, 4, 4),\n",
              " (5, 4, 5),\n",
              " (5, 4, 6),\n",
              " (5, 5, 1),\n",
              " (5, 5, 2),\n",
              " (5, 5, 3),\n",
              " (5, 5, 4),\n",
              " (5, 5, 5),\n",
              " (5, 5, 6),\n",
              " (5, 6, 1),\n",
              " (5, 6, 2),\n",
              " (5, 6, 3),\n",
              " (5, 6, 4),\n",
              " (5, 6, 5),\n",
              " (5, 6, 6),\n",
              " (6, 1, 1),\n",
              " (6, 1, 2),\n",
              " (6, 1, 3),\n",
              " (6, 1, 4),\n",
              " (6, 1, 5),\n",
              " (6, 1, 6),\n",
              " (6, 2, 1),\n",
              " (6, 2, 2),\n",
              " (6, 2, 3),\n",
              " (6, 2, 4),\n",
              " (6, 2, 5),\n",
              " (6, 2, 6),\n",
              " (6, 3, 1),\n",
              " (6, 3, 2),\n",
              " (6, 3, 3),\n",
              " (6, 3, 4),\n",
              " (6, 3, 5),\n",
              " (6, 3, 6),\n",
              " (6, 4, 1),\n",
              " (6, 4, 2),\n",
              " (6, 4, 3),\n",
              " (6, 4, 4),\n",
              " (6, 4, 5),\n",
              " (6, 4, 6),\n",
              " (6, 5, 1),\n",
              " (6, 5, 2),\n",
              " (6, 5, 3),\n",
              " (6, 5, 4),\n",
              " (6, 5, 5),\n",
              " (6, 5, 6),\n",
              " (6, 6, 1),\n",
              " (6, 6, 2),\n",
              " (6, 6, 3),\n",
              " (6, 6, 4),\n",
              " (6, 6, 5),\n",
              " (6, 6, 6)}"
            ]
          },
          "metadata": {},
          "execution_count": 13
        }
      ]
    },
    {
      "cell_type": "code",
      "source": [
        "len (Omega)"
      ],
      "metadata": {
        "colab": {
          "base_uri": "https://localhost:8080/"
        },
        "id": "s92JQjPaUSCs",
        "outputId": "0302ac0a-341f-453a-9f7a-5fcf75876ea8"
      },
      "execution_count": null,
      "outputs": [
        {
          "output_type": "execute_result",
          "data": {
            "text/plain": [
              "216"
            ]
          },
          "metadata": {},
          "execution_count": 12
        }
      ]
    },
    {
      "cell_type": "code",
      "source": [
        "# 1 en el primer lanzamiento\n",
        "uno = {omega for omega in Omega if omega [0] == 1}\n",
        "uno"
      ],
      "metadata": {
        "colab": {
          "base_uri": "https://localhost:8080/"
        },
        "id": "wU3vz3AeVaQ-",
        "outputId": "c61472a5-ba8b-461e-9f94-495ce82b9c4e"
      },
      "execution_count": null,
      "outputs": [
        {
          "output_type": "execute_result",
          "data": {
            "text/plain": [
              "{(1, 1, 1),\n",
              " (1, 1, 2),\n",
              " (1, 1, 3),\n",
              " (1, 1, 4),\n",
              " (1, 1, 5),\n",
              " (1, 1, 6),\n",
              " (1, 2, 1),\n",
              " (1, 2, 2),\n",
              " (1, 2, 3),\n",
              " (1, 2, 4),\n",
              " (1, 2, 5),\n",
              " (1, 2, 6),\n",
              " (1, 3, 1),\n",
              " (1, 3, 2),\n",
              " (1, 3, 3),\n",
              " (1, 3, 4),\n",
              " (1, 3, 5),\n",
              " (1, 3, 6),\n",
              " (1, 4, 1),\n",
              " (1, 4, 2),\n",
              " (1, 4, 3),\n",
              " (1, 4, 4),\n",
              " (1, 4, 5),\n",
              " (1, 4, 6),\n",
              " (1, 5, 1),\n",
              " (1, 5, 2),\n",
              " (1, 5, 3),\n",
              " (1, 5, 4),\n",
              " (1, 5, 5),\n",
              " (1, 5, 6),\n",
              " (1, 6, 1),\n",
              " (1, 6, 2),\n",
              " (1, 6, 3),\n",
              " (1, 6, 4),\n",
              " (1, 6, 5),\n",
              " (1, 6, 6)}"
            ]
          },
          "metadata": {},
          "execution_count": 14
        }
      ]
    },
    {
      "cell_type": "code",
      "source": [
        "len (uno)"
      ],
      "metadata": {
        "colab": {
          "base_uri": "https://localhost:8080/"
        },
        "id": "TuiTyd0dVrA6",
        "outputId": "b0820862-eac7-4efe-ecc3-cd6f64e987e9"
      },
      "execution_count": null,
      "outputs": [
        {
          "output_type": "execute_result",
          "data": {
            "text/plain": [
              "36"
            ]
          },
          "metadata": {},
          "execution_count": 15
        }
      ]
    },
    {
      "cell_type": "code",
      "source": [
        "PROB1 = len (uno)/ len (Omega)\n",
        "PROB1"
      ],
      "metadata": {
        "colab": {
          "base_uri": "https://localhost:8080/"
        },
        "id": "-I89Gj7QVwjq",
        "outputId": "47b52504-4eb3-4f3c-fa1f-fa33a6509813"
      },
      "execution_count": null,
      "outputs": [
        {
          "output_type": "execute_result",
          "data": {
            "text/plain": [
              "0.16666666666666666"
            ]
          },
          "metadata": {},
          "execution_count": 67
        }
      ]
    },
    {
      "cell_type": "code",
      "source": [
        "#evento 2:\n",
        "Z = {omega for omega in Omega if omega [0]%2 == 0 and omega [1]%2 == 0 and omega [2]%2 == 0}\n",
        "W = {omega for omega in Omega if omega [0] == 2}"
      ],
      "metadata": {
        "id": "XrrDN5kzYwD1"
      },
      "execution_count": null,
      "outputs": []
    },
    {
      "cell_type": "code",
      "source": [
        "intersectionZW = len(Z.intersection(W))/len(W)\n",
        "intersectionZW"
      ],
      "metadata": {
        "colab": {
          "base_uri": "https://localhost:8080/"
        },
        "id": "-e8_ejgdZWJU",
        "outputId": "919ccb5d-1290-4eba-b25e-0255f9324051"
      },
      "execution_count": null,
      "outputs": [
        {
          "output_type": "execute_result",
          "data": {
            "text/plain": [
              "0.25"
            ]
          },
          "metadata": {},
          "execution_count": 29
        }
      ]
    },
    {
      "cell_type": "code",
      "source": [
        "#eventoindependiente"
      ],
      "metadata": {
        "id": "Dd-p5GQBbqW0"
      },
      "execution_count": null,
      "outputs": []
    },
    {
      "cell_type": "code",
      "source": [
        "from itertools import product "
      ],
      "metadata": {
        "id": "k4M-SLfLm-F2"
      },
      "execution_count": null,
      "outputs": []
    },
    {
      "cell_type": "code",
      "source": [
        "J = set(product([\"A\", \"S\"],repeat= 3))\n",
        "J"
      ],
      "metadata": {
        "colab": {
          "base_uri": "https://localhost:8080/"
        },
        "id": "JQEBawYumv54",
        "outputId": "30fbe0f1-4719-48d4-9f45-cb69d3ce3c9c"
      },
      "execution_count": null,
      "outputs": [
        {
          "output_type": "execute_result",
          "data": {
            "text/plain": [
              "{('A', 'A', 'A'),\n",
              " ('A', 'A', 'S'),\n",
              " ('A', 'S', 'A'),\n",
              " ('A', 'S', 'S'),\n",
              " ('S', 'A', 'A'),\n",
              " ('S', 'A', 'S'),\n",
              " ('S', 'S', 'A'),\n",
              " ('S', 'S', 'S')}"
            ]
          },
          "metadata": {},
          "execution_count": 60
        }
      ]
    },
    {
      "cell_type": "code",
      "source": [
        "len(J)"
      ],
      "metadata": {
        "colab": {
          "base_uri": "https://localhost:8080/"
        },
        "id": "Q7dFZFOvniLI",
        "outputId": "7743b0b9-fcc1-4a37-ccde-8ec601fddfa7"
      },
      "execution_count": null,
      "outputs": [
        {
          "output_type": "execute_result",
          "data": {
            "text/plain": [
              "8"
            ]
          },
          "metadata": {},
          "execution_count": 61
        }
      ]
    },
    {
      "cell_type": "code",
      "source": [
        "LanSol2 = {omega for omega in J if omega[1] == \"S\"}\n",
        "LanSol2"
      ],
      "metadata": {
        "colab": {
          "base_uri": "https://localhost:8080/"
        },
        "id": "b_J5c0Uhnukx",
        "outputId": "bbff5f47-b37a-47af-e3ec-207751dda4a6"
      },
      "execution_count": null,
      "outputs": [
        {
          "output_type": "execute_result",
          "data": {
            "text/plain": [
              "{('A', 'S', 'A'), ('A', 'S', 'S'), ('S', 'S', 'A'), ('S', 'S', 'S')}"
            ]
          },
          "metadata": {},
          "execution_count": 64
        }
      ]
    },
    {
      "cell_type": "code",
      "source": [
        "len(LanSol2)"
      ],
      "metadata": {
        "colab": {
          "base_uri": "https://localhost:8080/"
        },
        "id": "KPNC6O-ioXi9",
        "outputId": "91d421dd-a18a-4991-bf44-2e24a78a680f"
      },
      "execution_count": null,
      "outputs": [
        {
          "output_type": "execute_result",
          "data": {
            "text/plain": [
              "4"
            ]
          },
          "metadata": {},
          "execution_count": 65
        }
      ]
    },
    {
      "cell_type": "code",
      "source": [
        "ProbLanSol2 = len(LanSol2)/len(J)\n",
        "ProbLanSol2"
      ],
      "metadata": {
        "colab": {
          "base_uri": "https://localhost:8080/"
        },
        "id": "uX6Cm_bDoaU9",
        "outputId": "0942db15-01da-47f7-d664-046ad54b0151"
      },
      "execution_count": null,
      "outputs": [
        {
          "output_type": "execute_result",
          "data": {
            "text/plain": [
              "0.5"
            ]
          },
          "metadata": {},
          "execution_count": 66
        }
      ]
    },
    {
      "cell_type": "code",
      "source": [
        "def indep (ProbLanSol2,PROB1):\n",
        "  return ProbLanSol2, PROB1 == ProbLanSol2 * PROB1 "
      ],
      "metadata": {
        "id": "Vll4cPWyorPi"
      },
      "execution_count": null,
      "outputs": []
    },
    {
      "cell_type": "code",
      "source": [
        "indep(ProbLanSol2, PROB1)"
      ],
      "metadata": {
        "colab": {
          "base_uri": "https://localhost:8080/"
        },
        "id": "aKk8mbOdtZJI",
        "outputId": "ec5fa49d-42d8-4aa0-dbd3-dcf3610dc739"
      },
      "execution_count": null,
      "outputs": [
        {
          "output_type": "execute_result",
          "data": {
            "text/plain": [
              "(0.5, False)"
            ]
          },
          "metadata": {},
          "execution_count": 102
        }
      ]
    },
    {
      "cell_type": "code",
      "source": [
        "def indep (ProbLanSol2, intersectionZW):\n",
        "  return ProbLanSol2, intersectionZW == ProbLanSol2 * intersectionZW"
      ],
      "metadata": {
        "id": "1GD6BE_k7Rka"
      },
      "execution_count": null,
      "outputs": []
    },
    {
      "cell_type": "code",
      "source": [
        "indep (ProbLanSol2, intersectionZW)"
      ],
      "metadata": {
        "colab": {
          "base_uri": "https://localhost:8080/"
        },
        "id": "fqVor38Zq6yB",
        "outputId": "6f929d50-e165-42ab-aa45-2393e34f96d6"
      },
      "execution_count": null,
      "outputs": [
        {
          "output_type": "execute_result",
          "data": {
            "text/plain": [
              "(0.5, False)"
            ]
          },
          "metadata": {},
          "execution_count": 104
        }
      ]
    },
    {
      "cell_type": "markdown",
      "source": [
        "3.- Considera el experimento: Alicia y Karla lanzan dados justos. Se tiene el siguiente juego: 2\n",
        "Si la suma de los dados es par, Alicia gana la cantidad máxima que sale en las caras y Karla pierde la cantidad mínima que sale en las caras.\n",
        "Si la suma de los dados es un número impar, Karla gana la cantidad de y Alicia pierde la cantidad de .\n",
        "3$ 5$\n",
        "¿Quién tiene más probabilidad de obtener mayor ganancia?"
      ],
      "metadata": {
        "id": "ArO0uA_7K08e"
      }
    },
    {
      "cell_type": "code",
      "source": [
        "from itertools import product"
      ],
      "metadata": {
        "id": "kB7Q67tpZzxt"
      },
      "execution_count": null,
      "outputs": []
    },
    {
      "cell_type": "code",
      "source": [
        "R = [1,2,3,4,5,6]"
      ],
      "metadata": {
        "id": "ECxhn0dcaE0M"
      },
      "execution_count": null,
      "outputs": []
    },
    {
      "cell_type": "code",
      "source": [
        "ROmega = set(product (R,repeat= 2))\n",
        "ROmega"
      ],
      "metadata": {
        "colab": {
          "base_uri": "https://localhost:8080/"
        },
        "id": "tTXanznoZ4tA",
        "outputId": "c99ce048-ec81-42f8-ea98-ab9d8069afb7"
      },
      "execution_count": null,
      "outputs": [
        {
          "output_type": "execute_result",
          "data": {
            "text/plain": [
              "{(1, 1),\n",
              " (1, 2),\n",
              " (1, 3),\n",
              " (1, 4),\n",
              " (1, 5),\n",
              " (1, 6),\n",
              " (2, 1),\n",
              " (2, 2),\n",
              " (2, 3),\n",
              " (2, 4),\n",
              " (2, 5),\n",
              " (2, 6),\n",
              " (3, 1),\n",
              " (3, 2),\n",
              " (3, 3),\n",
              " (3, 4),\n",
              " (3, 5),\n",
              " (3, 6),\n",
              " (4, 1),\n",
              " (4, 2),\n",
              " (4, 3),\n",
              " (4, 4),\n",
              " (4, 5),\n",
              " (4, 6),\n",
              " (5, 1),\n",
              " (5, 2),\n",
              " (5, 3),\n",
              " (5, 4),\n",
              " (5, 5),\n",
              " (5, 6),\n",
              " (6, 1),\n",
              " (6, 2),\n",
              " (6, 3),\n",
              " (6, 4),\n",
              " (6, 5),\n",
              " (6, 6)}"
            ]
          },
          "metadata": {},
          "execution_count": 33
        }
      ]
    },
    {
      "cell_type": "code",
      "source": [
        "len (ROmega)"
      ],
      "metadata": {
        "colab": {
          "base_uri": "https://localhost:8080/"
        },
        "id": "Wnyt4IsiZ7lE",
        "outputId": "b35bd5fe-3f5c-4f6c-f011-8288587aa1cb"
      },
      "execution_count": null,
      "outputs": [
        {
          "output_type": "execute_result",
          "data": {
            "text/plain": [
              "36"
            ]
          },
          "metadata": {},
          "execution_count": 34
        }
      ]
    },
    {
      "cell_type": "code",
      "source": [
        "SumasCaras = {x for x in ROmega if (x[0] + x[1])%2 == 0}\n",
        "SumasCaras"
      ],
      "metadata": {
        "colab": {
          "base_uri": "https://localhost:8080/"
        },
        "id": "Q9cZ4cgvaXZW",
        "outputId": "f9b0642c-5ddb-4a7d-f3d1-14f90f1ccde9"
      },
      "execution_count": null,
      "outputs": [
        {
          "output_type": "execute_result",
          "data": {
            "text/plain": [
              "{(1, 1),\n",
              " (1, 3),\n",
              " (1, 5),\n",
              " (2, 2),\n",
              " (2, 4),\n",
              " (2, 6),\n",
              " (3, 1),\n",
              " (3, 3),\n",
              " (3, 5),\n",
              " (4, 2),\n",
              " (4, 4),\n",
              " (4, 6),\n",
              " (5, 1),\n",
              " (5, 3),\n",
              " (5, 5),\n",
              " (6, 2),\n",
              " (6, 4),\n",
              " (6, 6)}"
            ]
          },
          "metadata": {},
          "execution_count": 35
        }
      ]
    },
    {
      "cell_type": "code",
      "source": [
        "len(SumasCaras)"
      ],
      "metadata": {
        "colab": {
          "base_uri": "https://localhost:8080/"
        },
        "id": "23EpMcxWb7w_",
        "outputId": "6c84d85a-b863-4a8e-eb5e-417b99732f68"
      },
      "execution_count": null,
      "outputs": [
        {
          "output_type": "execute_result",
          "data": {
            "text/plain": [
              "18"
            ]
          },
          "metadata": {},
          "execution_count": 36
        }
      ]
    },
    {
      "cell_type": "code",
      "source": [
        "Alicia = {max (A) for A in SumasCaras}\n",
        "Alicia"
      ],
      "metadata": {
        "colab": {
          "base_uri": "https://localhost:8080/"
        },
        "id": "99Cg87I8cBSx",
        "outputId": "ba2ea0ea-fb42-4960-c85c-48e46b0a2ba5"
      },
      "execution_count": null,
      "outputs": [
        {
          "output_type": "execute_result",
          "data": {
            "text/plain": [
              "{1, 2, 3, 4, 5, 6}"
            ]
          },
          "metadata": {},
          "execution_count": 37
        }
      ]
    },
    {
      "cell_type": "markdown",
      "source": [
        ". Alicia gana $1 peso: \n",
        "${(1,1)} - P (gane\\ 1 \\ peso) = 1\\18 $\n",
        "\n",
        ". Alicia gana $2 pesos: \n",
        "${(2,2)} - P (gane\\ 2 \\ pesos) = 1\\18 $\n",
        "\n",
        ". Alicia gana $3 pesos: \n",
        "${(1,3), (3,1), (3,3)} - P (gane\\ 3 \\ pesos) = 3\\18 $\n",
        "\n",
        ". Alicia gana $4 pesos: \n",
        "${(2,4), (4,2), (4,4)} - P (gane\\ 4 \\ pesos) = 3\\18 $\n",
        "\n",
        ". Alicia gana $5 pesos: \n",
        "${(1,5), (5,1), (3,5), (5,3), (5,5)} - P (gane\\ 5 \\ pesos) = 5\\18 $\n",
        "\n",
        ". Alicia gana $6 pesos: \n",
        "${(2,6), (6,2), (4,6), (6,4), (6,6)} - P (gane\\ 6 \\ pesos) = 5\\18 $\n"
      ],
      "metadata": {
        "id": "QvoodBmkcOzw"
      }
    },
    {
      "cell_type": "code",
      "source": [
        "Gane1 = 1/18\n",
        "Gane1"
      ],
      "metadata": {
        "colab": {
          "base_uri": "https://localhost:8080/"
        },
        "id": "gKQ_xzpedkMd",
        "outputId": "0aadb878-3883-460d-cf89-0cb04d5f2268"
      },
      "execution_count": null,
      "outputs": [
        {
          "output_type": "execute_result",
          "data": {
            "text/plain": [
              "0.05555555555555555"
            ]
          },
          "metadata": {},
          "execution_count": 39
        }
      ]
    },
    {
      "cell_type": "code",
      "source": [
        "Gane2 = 1/18\n",
        "Gane2"
      ],
      "metadata": {
        "colab": {
          "base_uri": "https://localhost:8080/"
        },
        "id": "h4ywk6Rndqjh",
        "outputId": "b894abb9-facc-4680-d464-bfec031c3bb0"
      },
      "execution_count": null,
      "outputs": [
        {
          "output_type": "execute_result",
          "data": {
            "text/plain": [
              "0.05555555555555555"
            ]
          },
          "metadata": {},
          "execution_count": 40
        }
      ]
    },
    {
      "cell_type": "code",
      "source": [
        "Gane3 = 3/18\n",
        "Gane3"
      ],
      "metadata": {
        "colab": {
          "base_uri": "https://localhost:8080/"
        },
        "id": "06AmgE9fdtGY",
        "outputId": "d037f1f1-d3bd-4275-8909-dee8a7ab5418"
      },
      "execution_count": null,
      "outputs": [
        {
          "output_type": "execute_result",
          "data": {
            "text/plain": [
              "0.16666666666666666"
            ]
          },
          "metadata": {},
          "execution_count": 41
        }
      ]
    },
    {
      "cell_type": "code",
      "source": [
        "Gane4 = 3/18\n",
        "Gane4"
      ],
      "metadata": {
        "colab": {
          "base_uri": "https://localhost:8080/"
        },
        "id": "Gs91BL-_dxOM",
        "outputId": "62006525-a094-4c27-c661-36f13c627230"
      },
      "execution_count": null,
      "outputs": [
        {
          "output_type": "execute_result",
          "data": {
            "text/plain": [
              "0.16666666666666666"
            ]
          },
          "metadata": {},
          "execution_count": 42
        }
      ]
    },
    {
      "cell_type": "code",
      "source": [
        "Gane5 = 5/18\n",
        "Gane5"
      ],
      "metadata": {
        "colab": {
          "base_uri": "https://localhost:8080/"
        },
        "id": "wh93c9cYd00h",
        "outputId": "da14e46d-d63f-4d06-9373-8e73d1b2688e"
      },
      "execution_count": null,
      "outputs": [
        {
          "output_type": "execute_result",
          "data": {
            "text/plain": [
              "0.2777777777777778"
            ]
          },
          "metadata": {},
          "execution_count": 43
        }
      ]
    },
    {
      "cell_type": "code",
      "source": [
        "Gane6 = 5/18\n",
        "Gane6"
      ],
      "metadata": {
        "colab": {
          "base_uri": "https://localhost:8080/"
        },
        "id": "WRDVVjS1d4A1",
        "outputId": "727b827d-0407-4e76-c602-de667bc7cf06"
      },
      "execution_count": null,
      "outputs": [
        {
          "output_type": "execute_result",
          "data": {
            "text/plain": [
              "0.2777777777777778"
            ]
          },
          "metadata": {},
          "execution_count": 44
        }
      ]
    },
    {
      "cell_type": "code",
      "source": [
        "Karla = {min (K) for K in SumasCaras}\n",
        "Karla"
      ],
      "metadata": {
        "colab": {
          "base_uri": "https://localhost:8080/"
        },
        "id": "GMTaBdOzf_Yd",
        "outputId": "ed9d1d1d-6298-4a16-ce36-b4362db47ad1"
      },
      "execution_count": null,
      "outputs": [
        {
          "output_type": "execute_result",
          "data": {
            "text/plain": [
              "{1, 2, 3, 4, 5, 6}"
            ]
          },
          "metadata": {},
          "execution_count": 47
        }
      ]
    },
    {
      "cell_type": "markdown",
      "source": [
        ". Karla pierde 1 peso:\n",
        "${(1,1), (1,3), (3,1), (1,5), (5,1)} - P (pierde\\ 1 \\ peso) = 5\\18 $\n",
        "\n",
        ". Karla pierde 2 pesos:\n",
        "${(2,2), (2,4), (4,2), (2,6), (6,2)} - P (pierde\\ 2 \\ pesos) = 5\\18 $\n",
        "\n",
        ". Karla pierde 3 pesos:\n",
        "${(3,3), (1,3), (3,1), (3,5), (5,3)} - P (pierde\\ 3 \\ pesos) = 5\\18 $\n",
        "\n",
        ". Karla pierde 4 pesos:\n",
        "${(4,4), (2,4), (4,2), (4,6), (6,4)} - P (pierde\\ 4 \\ pesos) = 5\\18 $\n",
        "\n",
        ". Karla pierde 5 pesos:\n",
        "${(5,5), (1,5), (5,1), (3,5), (5,3)} - P (pierde\\ 5 \\ pesos) = 5\\18 $\n",
        "\n",
        ". Karla pierde 6 pesos:\n",
        "${(6,6), (2,6), (6,2), (4,6), (6,4)} - P (pierde\\ 5 \\ pesos) = 5\\18 $\n"
      ],
      "metadata": {
        "id": "V5k1xIMieAVx"
      }
    },
    {
      "cell_type": "code",
      "source": [
        "Pierda1 = 5/18\n",
        "Pierda1"
      ],
      "metadata": {
        "colab": {
          "base_uri": "https://localhost:8080/"
        },
        "id": "c2ybs1e_fjEW",
        "outputId": "9c21a517-39f4-4039-805b-9f3d724b908b"
      },
      "execution_count": null,
      "outputs": [
        {
          "output_type": "execute_result",
          "data": {
            "text/plain": [
              "0.2777777777777778"
            ]
          },
          "metadata": {},
          "execution_count": 49
        }
      ]
    },
    {
      "cell_type": "code",
      "source": [
        "Pierda2 = 5/18\n",
        "Pierda2"
      ],
      "metadata": {
        "colab": {
          "base_uri": "https://localhost:8080/"
        },
        "id": "-2T0amdvhx5p",
        "outputId": "6db7d8c4-18a6-4ffb-ff13-45c0b269f6be"
      },
      "execution_count": null,
      "outputs": [
        {
          "output_type": "execute_result",
          "data": {
            "text/plain": [
              "0.2777777777777778"
            ]
          },
          "metadata": {},
          "execution_count": 50
        }
      ]
    },
    {
      "cell_type": "code",
      "source": [
        "Pierda3 = 5/18\n",
        "Pierda3"
      ],
      "metadata": {
        "colab": {
          "base_uri": "https://localhost:8080/"
        },
        "id": "gRWujsznh17X",
        "outputId": "5b0d3a46-d0c6-40d1-d229-dbf2f6fab0e8"
      },
      "execution_count": null,
      "outputs": [
        {
          "output_type": "execute_result",
          "data": {
            "text/plain": [
              "0.2777777777777778"
            ]
          },
          "metadata": {},
          "execution_count": 51
        }
      ]
    },
    {
      "cell_type": "code",
      "source": [
        "Pierda4 = 5/18\n",
        "Pierda4"
      ],
      "metadata": {
        "colab": {
          "base_uri": "https://localhost:8080/"
        },
        "id": "QOYPV9-lh5qU",
        "outputId": "1f20086e-1035-46b6-d2f7-83d542ab1f56"
      },
      "execution_count": null,
      "outputs": [
        {
          "output_type": "execute_result",
          "data": {
            "text/plain": [
              "0.2777777777777778"
            ]
          },
          "metadata": {},
          "execution_count": 52
        }
      ]
    },
    {
      "cell_type": "code",
      "source": [
        "Pierda5 = 5/18\n",
        "Pierda5"
      ],
      "metadata": {
        "colab": {
          "base_uri": "https://localhost:8080/"
        },
        "id": "2oRa2Wg9h8qe",
        "outputId": "55a5ba55-adff-4086-e74e-ef04fa99fd70"
      },
      "execution_count": null,
      "outputs": [
        {
          "output_type": "execute_result",
          "data": {
            "text/plain": [
              "0.2777777777777778"
            ]
          },
          "metadata": {},
          "execution_count": 53
        }
      ]
    },
    {
      "cell_type": "code",
      "source": [
        "Pierda6 = 5/18\n",
        "Pierda6"
      ],
      "metadata": {
        "colab": {
          "base_uri": "https://localhost:8080/"
        },
        "id": "DXSnlTY5iApU",
        "outputId": "224d1724-d863-4a7c-f95b-1f4a3e2c397a"
      },
      "execution_count": null,
      "outputs": [
        {
          "output_type": "execute_result",
          "data": {
            "text/plain": [
              "0.2777777777777778"
            ]
          },
          "metadata": {},
          "execution_count": 54
        }
      ]
    },
    {
      "cell_type": "code",
      "source": [
        "EspacioImpar = {x for x in ROmega if (x[0] + x[1])%2 == 1}\n",
        "EspacioImpar"
      ],
      "metadata": {
        "colab": {
          "base_uri": "https://localhost:8080/"
        },
        "id": "VLL5WR7qiI-u",
        "outputId": "dc278456-0e44-40e8-bbac-42686620f195"
      },
      "execution_count": null,
      "outputs": [
        {
          "output_type": "execute_result",
          "data": {
            "text/plain": [
              "{(1, 2),\n",
              " (1, 4),\n",
              " (1, 6),\n",
              " (2, 1),\n",
              " (2, 3),\n",
              " (2, 5),\n",
              " (3, 2),\n",
              " (3, 4),\n",
              " (3, 6),\n",
              " (4, 1),\n",
              " (4, 3),\n",
              " (4, 5),\n",
              " (5, 2),\n",
              " (5, 4),\n",
              " (5, 6),\n",
              " (6, 1),\n",
              " (6, 3),\n",
              " (6, 5)}"
            ]
          },
          "metadata": {},
          "execution_count": 55
        }
      ]
    },
    {
      "cell_type": "code",
      "source": [
        "len(EspacioImpar)"
      ],
      "metadata": {
        "colab": {
          "base_uri": "https://localhost:8080/"
        },
        "id": "ZF8a_sMWiVwX",
        "outputId": "860d16d1-1a9e-4166-948d-094aec6e361d"
      },
      "execution_count": null,
      "outputs": [
        {
          "output_type": "execute_result",
          "data": {
            "text/plain": [
              "18"
            ]
          },
          "metadata": {},
          "execution_count": 56
        }
      ]
    },
    {
      "cell_type": "markdown",
      "source": [
        "PROBABILIDADES: \n",
        "\n",
        "Cuando pierde Alicia:\n",
        "Probabilidad(pierde 3)= 0.5 - 0.5 * 3 = 1.5\n",
        "\n",
        "Cuando gana Karla: \n",
        "Probabilidad(gane 5)= 0.5 - 0.5 * 5 = 2.5"
      ],
      "metadata": {
        "id": "HT62WzW2j_x9"
      }
    },
    {
      "cell_type": "code",
      "source": [
        "KarlaGane5 = len(EspacioImpar)/ len(ROmega)\n",
        "KarlaGane5"
      ],
      "metadata": {
        "colab": {
          "base_uri": "https://localhost:8080/"
        },
        "id": "SOp1IzOJiaGN",
        "outputId": "b7e529ff-fc82-48fa-a478-c6253ed1cb1f"
      },
      "execution_count": null,
      "outputs": [
        {
          "output_type": "execute_result",
          "data": {
            "text/plain": [
              "0.5"
            ]
          },
          "metadata": {},
          "execution_count": 57
        }
      ]
    },
    {
      "cell_type": "code",
      "source": [
        "AliciaPierda3 = len(EspacioImpar)/ len(ROmega)\n",
        "AliciaPierda3"
      ],
      "metadata": {
        "colab": {
          "base_uri": "https://localhost:8080/"
        },
        "id": "ko4X97vSi0Ky",
        "outputId": "224c5818-0d39-400c-a71e-368189f09695"
      },
      "execution_count": null,
      "outputs": [
        {
          "output_type": "execute_result",
          "data": {
            "text/plain": [
              "0.5"
            ]
          },
          "metadata": {},
          "execution_count": 58
        }
      ]
    },
    {
      "cell_type": "code",
      "source": [
        "ProbabilidadAlicia = Gane1*Gane2*Gane3*Gane4*Gane5*Gane6\n",
        "ProbabilidadAlicia"
      ],
      "metadata": {
        "colab": {
          "base_uri": "https://localhost:8080/"
        },
        "id": "EHBQpm4Pj0Mg",
        "outputId": "c81e4eae-bc5d-498e-e64d-6336c467d060"
      },
      "execution_count": null,
      "outputs": [
        {
          "output_type": "execute_result",
          "data": {
            "text/plain": [
              "6.61526867516808e-06"
            ]
          },
          "metadata": {},
          "execution_count": 74
        }
      ]
    },
    {
      "cell_type": "code",
      "source": [
        "ProbabilidadKarla = KarlaGane5\n",
        "ProbabilidadKarla"
      ],
      "metadata": {
        "colab": {
          "base_uri": "https://localhost:8080/"
        },
        "id": "OXkLPsOYwRCo",
        "outputId": "f671b86c-09d7-4551-b098-8bed649bfa67"
      },
      "execution_count": null,
      "outputs": [
        {
          "output_type": "execute_result",
          "data": {
            "text/plain": [
              "0.5"
            ]
          },
          "metadata": {},
          "execution_count": 75
        }
      ]
    },
    {
      "cell_type": "markdown",
      "source": [
        "4.- Escribe en un DataFrame la distribución asociada a la suma que se obtiene al lanzar dados. 3"
      ],
      "metadata": {
        "id": "3FCkXElOK30D"
      }
    },
    {
      "cell_type": "code",
      "source": [
        "DF = set(product([1,2,3,4,5,6], repeat = 3))\n",
        "DF\n",
        "S3 = {o for o in DF if(o[0] + o[1] + o[2]) == 3 }\n",
        "S4 = {o for o in DF if(o[0] + o[1] + o[2]) == 4 }\n",
        "S5 = {o for o in DF if(o[0] + o[1] + o[2]) == 5 }\n",
        "S6 = {o for o in DF if(o[0] + o[1] + o[2]) == 6 }\n",
        "S7 = {o for o in DF if(o[0] + o[1] + o[2]) == 7 }\n",
        "S8 = {o for o in DF if(o[0] + o[1] + o[2]) == 8 }\n",
        "S9 = {o for o in DF if(o[0] + o[1] + o[2]) == 9 }\n",
        "S10 = {o for o in DF if(o[0] + o[1] + o[2]) == 10 }\n",
        "S11 = {o for o in DF if(o[0] + o[1] + o[2]) == 11 }\n",
        "S12 = {o for o in DF if(o[0] + o[1] + o[2]) == 12 }\n",
        "S13 = {o for o in DF if(o[0] + o[1] + o[2]) == 13 }\n",
        "S14 = {o for o in DF if(o[0] + o[1] + o[2]) == 14 }\n",
        "S15 = {o for o in DF if(o[0] + o[1] + o[2]) == 15 }\n",
        "S16 = {o for o in DF if(o[0] + o[1] + o[2]) == 16 }\n",
        "S17 = {o for o in DF if(o[0] + o[1] + o[2]) == 17 }\n",
        "S18 = {o for o in DF if(o[0] + o[1] + o[2]) == 18 }\n",
        "diccionario = {\"Suma de 3\": [S3],\n",
        "               \"Suma de 4\": [S4],\n",
        "                \"Suma de 5\": [S5],\n",
        "                \"Suma de 6\": [S6],\n",
        "                \"Suma de 7\": [S7],\n",
        "                \"Suma de 8\": [S8],\n",
        "                \"Suma de 9\": [S9],\n",
        "                \"Suma de 10\": [S10],\n",
        "                \"Suma de 11\": [S11],\n",
        "                \"Suma de 12\": [S12],\n",
        "                \"Suma de 13\": [S13],\n",
        "                \"Suma de 14\": [S14],\n",
        "                \"Suma de 15\": [S15],\n",
        "                \"Suma de 16\": [S16],\n",
        "                \"Suma de 17\": [S17],\n",
        "                \"Suma de 18\": [S18]}\n"
      ],
      "metadata": {
        "id": "hFOEBTyoqNSC"
      },
      "execution_count": null,
      "outputs": []
    },
    {
      "cell_type": "code",
      "source": [
        "import pandas as pd\n",
        "title = [\"los resultados son:\"]\n",
        "dfdicc = pd.DataFrame(diccionario, index= title)\n",
        "dfdicc\n"
      ],
      "metadata": {
        "colab": {
          "base_uri": "https://localhost:8080/",
          "height": 226
        },
        "id": "chtsDoc0yt9U",
        "outputId": "2f51a77a-f2bb-4512-c885-4e392603e8b3"
      },
      "execution_count": null,
      "outputs": [
        {
          "output_type": "execute_result",
          "data": {
            "text/plain": [
              "                       Suma de 3                          Suma de 4  \\\n",
              "los resultados son:  {(1, 1, 1)}  {(1, 2, 1), (2, 1, 1), (1, 1, 2)}   \n",
              "\n",
              "                                                             Suma de 5  \\\n",
              "los resultados son:  {(3, 1, 1), (1, 2, 2), (2, 2, 1), (1, 1, 3), (...   \n",
              "\n",
              "                                                             Suma de 6  \\\n",
              "los resultados son:  {(2, 2, 2), (3, 1, 2), (1, 3, 2), (3, 2, 1), (...   \n",
              "\n",
              "                                                             Suma de 7  \\\n",
              "los resultados son:  {(2, 3, 2), (2, 1, 4), (5, 1, 1), (4, 2, 1), (...   \n",
              "\n",
              "                                                             Suma de 8  \\\n",
              "los resultados son:  {(4, 2, 2), (2, 2, 4), (1, 1, 6), (1, 5, 2), (...   \n",
              "\n",
              "                                                             Suma de 9  \\\n",
              "los resultados son:  {(1, 5, 3), (2, 2, 5), (4, 4, 1), (1, 4, 4), (...   \n",
              "\n",
              "                                                            Suma de 10  \\\n",
              "los resultados son:  {(2, 3, 5), (1, 4, 5), (4, 3, 3), (5, 1, 4), (...   \n",
              "\n",
              "                                                            Suma de 11  \\\n",
              "los resultados son:  {(4, 3, 4), (2, 3, 6), (5, 5, 1), (5, 1, 5), (...   \n",
              "\n",
              "                                                            Suma de 12  \\\n",
              "los resultados son:  {(3, 4, 5), (5, 3, 4), (3, 5, 4), (4, 3, 5), (...   \n",
              "\n",
              "                                                            Suma de 13  \\\n",
              "los resultados son:  {(5, 6, 2), (5, 2, 6), (3, 4, 6), (6, 3, 4), (...   \n",
              "\n",
              "                                                            Suma de 14  \\\n",
              "los resultados son:  {(4, 4, 6), (5, 4, 5), (5, 6, 3), (3, 6, 5), (...   \n",
              "\n",
              "                                                            Suma de 15  \\\n",
              "los resultados son:  {(6, 6, 3), (6, 4, 5), (4, 6, 5), (5, 6, 4), (...   \n",
              "\n",
              "                                                            Suma de 16  \\\n",
              "los resultados son:  {(5, 5, 6), (4, 6, 6), (6, 5, 5), (5, 6, 5), (...   \n",
              "\n",
              "                                            Suma de 17   Suma de 18  \n",
              "los resultados son:  {(5, 6, 6), (6, 5, 6), (6, 6, 5)}  {(6, 6, 6)}  "
            ],
            "text/html": [
              "\n",
              "  <div id=\"df-8fd94639-7f9b-479a-af66-484ce83cefe2\">\n",
              "    <div class=\"colab-df-container\">\n",
              "      <div>\n",
              "<style scoped>\n",
              "    .dataframe tbody tr th:only-of-type {\n",
              "        vertical-align: middle;\n",
              "    }\n",
              "\n",
              "    .dataframe tbody tr th {\n",
              "        vertical-align: top;\n",
              "    }\n",
              "\n",
              "    .dataframe thead th {\n",
              "        text-align: right;\n",
              "    }\n",
              "</style>\n",
              "<table border=\"1\" class=\"dataframe\">\n",
              "  <thead>\n",
              "    <tr style=\"text-align: right;\">\n",
              "      <th></th>\n",
              "      <th>Suma de 3</th>\n",
              "      <th>Suma de 4</th>\n",
              "      <th>Suma de 5</th>\n",
              "      <th>Suma de 6</th>\n",
              "      <th>Suma de 7</th>\n",
              "      <th>Suma de 8</th>\n",
              "      <th>Suma de 9</th>\n",
              "      <th>Suma de 10</th>\n",
              "      <th>Suma de 11</th>\n",
              "      <th>Suma de 12</th>\n",
              "      <th>Suma de 13</th>\n",
              "      <th>Suma de 14</th>\n",
              "      <th>Suma de 15</th>\n",
              "      <th>Suma de 16</th>\n",
              "      <th>Suma de 17</th>\n",
              "      <th>Suma de 18</th>\n",
              "    </tr>\n",
              "  </thead>\n",
              "  <tbody>\n",
              "    <tr>\n",
              "      <th>los resultados son:</th>\n",
              "      <td>{(1, 1, 1)}</td>\n",
              "      <td>{(1, 2, 1), (2, 1, 1), (1, 1, 2)}</td>\n",
              "      <td>{(3, 1, 1), (1, 2, 2), (2, 2, 1), (1, 1, 3), (...</td>\n",
              "      <td>{(2, 2, 2), (3, 1, 2), (1, 3, 2), (3, 2, 1), (...</td>\n",
              "      <td>{(2, 3, 2), (2, 1, 4), (5, 1, 1), (4, 2, 1), (...</td>\n",
              "      <td>{(4, 2, 2), (2, 2, 4), (1, 1, 6), (1, 5, 2), (...</td>\n",
              "      <td>{(1, 5, 3), (2, 2, 5), (4, 4, 1), (1, 4, 4), (...</td>\n",
              "      <td>{(2, 3, 5), (1, 4, 5), (4, 3, 3), (5, 1, 4), (...</td>\n",
              "      <td>{(4, 3, 4), (2, 3, 6), (5, 5, 1), (5, 1, 5), (...</td>\n",
              "      <td>{(3, 4, 5), (5, 3, 4), (3, 5, 4), (4, 3, 5), (...</td>\n",
              "      <td>{(5, 6, 2), (5, 2, 6), (3, 4, 6), (6, 3, 4), (...</td>\n",
              "      <td>{(4, 4, 6), (5, 4, 5), (5, 6, 3), (3, 6, 5), (...</td>\n",
              "      <td>{(6, 6, 3), (6, 4, 5), (4, 6, 5), (5, 6, 4), (...</td>\n",
              "      <td>{(5, 5, 6), (4, 6, 6), (6, 5, 5), (5, 6, 5), (...</td>\n",
              "      <td>{(5, 6, 6), (6, 5, 6), (6, 6, 5)}</td>\n",
              "      <td>{(6, 6, 6)}</td>\n",
              "    </tr>\n",
              "  </tbody>\n",
              "</table>\n",
              "</div>\n",
              "      <button class=\"colab-df-convert\" onclick=\"convertToInteractive('df-8fd94639-7f9b-479a-af66-484ce83cefe2')\"\n",
              "              title=\"Convert this dataframe to an interactive table.\"\n",
              "              style=\"display:none;\">\n",
              "        \n",
              "  <svg xmlns=\"http://www.w3.org/2000/svg\" height=\"24px\"viewBox=\"0 0 24 24\"\n",
              "       width=\"24px\">\n",
              "    <path d=\"M0 0h24v24H0V0z\" fill=\"none\"/>\n",
              "    <path d=\"M18.56 5.44l.94 2.06.94-2.06 2.06-.94-2.06-.94-.94-2.06-.94 2.06-2.06.94zm-11 1L8.5 8.5l.94-2.06 2.06-.94-2.06-.94L8.5 2.5l-.94 2.06-2.06.94zm10 10l.94 2.06.94-2.06 2.06-.94-2.06-.94-.94-2.06-.94 2.06-2.06.94z\"/><path d=\"M17.41 7.96l-1.37-1.37c-.4-.4-.92-.59-1.43-.59-.52 0-1.04.2-1.43.59L10.3 9.45l-7.72 7.72c-.78.78-.78 2.05 0 2.83L4 21.41c.39.39.9.59 1.41.59.51 0 1.02-.2 1.41-.59l7.78-7.78 2.81-2.81c.8-.78.8-2.07 0-2.86zM5.41 20L4 18.59l7.72-7.72 1.47 1.35L5.41 20z\"/>\n",
              "  </svg>\n",
              "      </button>\n",
              "      \n",
              "  <style>\n",
              "    .colab-df-container {\n",
              "      display:flex;\n",
              "      flex-wrap:wrap;\n",
              "      gap: 12px;\n",
              "    }\n",
              "\n",
              "    .colab-df-convert {\n",
              "      background-color: #E8F0FE;\n",
              "      border: none;\n",
              "      border-radius: 50%;\n",
              "      cursor: pointer;\n",
              "      display: none;\n",
              "      fill: #1967D2;\n",
              "      height: 32px;\n",
              "      padding: 0 0 0 0;\n",
              "      width: 32px;\n",
              "    }\n",
              "\n",
              "    .colab-df-convert:hover {\n",
              "      background-color: #E2EBFA;\n",
              "      box-shadow: 0px 1px 2px rgba(60, 64, 67, 0.3), 0px 1px 3px 1px rgba(60, 64, 67, 0.15);\n",
              "      fill: #174EA6;\n",
              "    }\n",
              "\n",
              "    [theme=dark] .colab-df-convert {\n",
              "      background-color: #3B4455;\n",
              "      fill: #D2E3FC;\n",
              "    }\n",
              "\n",
              "    [theme=dark] .colab-df-convert:hover {\n",
              "      background-color: #434B5C;\n",
              "      box-shadow: 0px 1px 3px 1px rgba(0, 0, 0, 0.15);\n",
              "      filter: drop-shadow(0px 1px 2px rgba(0, 0, 0, 0.3));\n",
              "      fill: #FFFFFF;\n",
              "    }\n",
              "  </style>\n",
              "\n",
              "      <script>\n",
              "        const buttonEl =\n",
              "          document.querySelector('#df-8fd94639-7f9b-479a-af66-484ce83cefe2 button.colab-df-convert');\n",
              "        buttonEl.style.display =\n",
              "          google.colab.kernel.accessAllowed ? 'block' : 'none';\n",
              "\n",
              "        async function convertToInteractive(key) {\n",
              "          const element = document.querySelector('#df-8fd94639-7f9b-479a-af66-484ce83cefe2');\n",
              "          const dataTable =\n",
              "            await google.colab.kernel.invokeFunction('convertToInteractive',\n",
              "                                                     [key], {});\n",
              "          if (!dataTable) return;\n",
              "\n",
              "          const docLinkHtml = 'Like what you see? Visit the ' +\n",
              "            '<a target=\"_blank\" href=https://colab.research.google.com/notebooks/data_table.ipynb>data table notebook</a>'\n",
              "            + ' to learn more about interactive tables.';\n",
              "          element.innerHTML = '';\n",
              "          dataTable['output_type'] = 'display_data';\n",
              "          await google.colab.output.renderOutput(dataTable, element);\n",
              "          const docLink = document.createElement('div');\n",
              "          docLink.innerHTML = docLinkHtml;\n",
              "          element.appendChild(docLink);\n",
              "        }\n",
              "      </script>\n",
              "    </div>\n",
              "  </div>\n",
              "  "
            ]
          },
          "metadata": {},
          "execution_count": 86
        }
      ]
    },
    {
      "cell_type": "markdown",
      "source": [
        "5.- En un salón de clases se encuentran 20 estudiantes. Se requiere comparar Horas de estudio en un día anterior a un examen con la calificación que se obtiene en el examen. Registra tus datos (que inventarás) en un diccionario y crea un DataFrame a partir del diccionario. Usando algún método en Pandas, da una descripción estadística de los datos anteriores."
      ],
      "metadata": {
        "id": "6bN7LR6bK6ED"
      }
    },
    {
      "cell_type": "markdown",
      "source": [
        "Diccionarios"
      ],
      "metadata": {
        "id": "rVZ-bNmJ15K2"
      }
    },
    {
      "cell_type": "code",
      "source": [
        "Alumnos = {\"Rodolfo\":[6,10], \"Andrea\":[18,9], \"Rocio\":[20,6], \"Ariadna\":[2,5], \"Mariana\":[16,8], \"Patricio\":[4,10], \"Emilia\":[2,9], \"Lucia\":[7,4], \"Renata\": [3,7], \"Bruno\": [1,6], \"Dayana\": [2,3], \"Valentina\": [1,7], \"Luciana\":[3,4], \"Mar\": [2,7], \"Ana\": [7,5], \"Alaia\": [3,10], \"Daniel\": [5,9], \"JuanPablo\": [3,4], \"Roberta\": [7,8], \"Marcela\": [9,6]}"
      ],
      "metadata": {
        "id": "uUxblKRkK91e"
      },
      "execution_count": null,
      "outputs": []
    },
    {
      "cell_type": "code",
      "source": [
        "type(Alumnos)"
      ],
      "metadata": {
        "colab": {
          "base_uri": "https://localhost:8080/"
        },
        "id": "FBTKOEku3w1f",
        "outputId": "2fdef004-36a6-4f57-a653-f954ea07d9a5"
      },
      "execution_count": null,
      "outputs": [
        {
          "output_type": "execute_result",
          "data": {
            "text/plain": [
              "dict"
            ]
          },
          "metadata": {},
          "execution_count": 88
        }
      ]
    },
    {
      "cell_type": "code",
      "source": [
        "import pandas as pd"
      ],
      "metadata": {
        "id": "s0XHQxN532Ym"
      },
      "execution_count": null,
      "outputs": []
    },
    {
      "cell_type": "code",
      "source": [
        "index = [\"horas de estudio\", \"calificacion\"]\n",
        "dfalumnos=pd.DataFrame(Alumnos, index = index)\n",
        "dfalumnos"
      ],
      "metadata": {
        "colab": {
          "base_uri": "https://localhost:8080/",
          "height": 192
        },
        "id": "lnMT_VB-33If",
        "outputId": "18922859-ab18-4e69-c0f6-17e11f6792a6"
      },
      "execution_count": null,
      "outputs": [
        {
          "output_type": "execute_result",
          "data": {
            "text/plain": [
              "                  Rodolfo  Andrea  Rocio  Ariadna  Mariana  Patricio  Emilia  \\\n",
              "horas de estudio        6      18     20        2       16         4       2   \n",
              "calificacion           10       9      6        5        8        10       9   \n",
              "\n",
              "                  Lucia  Renata  Bruno  Dayana  Valentina  Luciana  Mar  Ana  \\\n",
              "horas de estudio      7       3      1       2          1        3    2    7   \n",
              "calificacion          4       7      6       3          7        4    7    5   \n",
              "\n",
              "                  Alaia  Daniel  JuanPablo  Roberta  Marcela  \n",
              "horas de estudio      3       5          3        7        9  \n",
              "calificacion         10       9          4        8        6  "
            ],
            "text/html": [
              "\n",
              "  <div id=\"df-75c385f1-d09f-4b6b-8d2e-28b373233397\">\n",
              "    <div class=\"colab-df-container\">\n",
              "      <div>\n",
              "<style scoped>\n",
              "    .dataframe tbody tr th:only-of-type {\n",
              "        vertical-align: middle;\n",
              "    }\n",
              "\n",
              "    .dataframe tbody tr th {\n",
              "        vertical-align: top;\n",
              "    }\n",
              "\n",
              "    .dataframe thead th {\n",
              "        text-align: right;\n",
              "    }\n",
              "</style>\n",
              "<table border=\"1\" class=\"dataframe\">\n",
              "  <thead>\n",
              "    <tr style=\"text-align: right;\">\n",
              "      <th></th>\n",
              "      <th>Rodolfo</th>\n",
              "      <th>Andrea</th>\n",
              "      <th>Rocio</th>\n",
              "      <th>Ariadna</th>\n",
              "      <th>Mariana</th>\n",
              "      <th>Patricio</th>\n",
              "      <th>Emilia</th>\n",
              "      <th>Lucia</th>\n",
              "      <th>Renata</th>\n",
              "      <th>Bruno</th>\n",
              "      <th>Dayana</th>\n",
              "      <th>Valentina</th>\n",
              "      <th>Luciana</th>\n",
              "      <th>Mar</th>\n",
              "      <th>Ana</th>\n",
              "      <th>Alaia</th>\n",
              "      <th>Daniel</th>\n",
              "      <th>JuanPablo</th>\n",
              "      <th>Roberta</th>\n",
              "      <th>Marcela</th>\n",
              "    </tr>\n",
              "  </thead>\n",
              "  <tbody>\n",
              "    <tr>\n",
              "      <th>horas de estudio</th>\n",
              "      <td>6</td>\n",
              "      <td>18</td>\n",
              "      <td>20</td>\n",
              "      <td>2</td>\n",
              "      <td>16</td>\n",
              "      <td>4</td>\n",
              "      <td>2</td>\n",
              "      <td>7</td>\n",
              "      <td>3</td>\n",
              "      <td>1</td>\n",
              "      <td>2</td>\n",
              "      <td>1</td>\n",
              "      <td>3</td>\n",
              "      <td>2</td>\n",
              "      <td>7</td>\n",
              "      <td>3</td>\n",
              "      <td>5</td>\n",
              "      <td>3</td>\n",
              "      <td>7</td>\n",
              "      <td>9</td>\n",
              "    </tr>\n",
              "    <tr>\n",
              "      <th>calificacion</th>\n",
              "      <td>10</td>\n",
              "      <td>9</td>\n",
              "      <td>6</td>\n",
              "      <td>5</td>\n",
              "      <td>8</td>\n",
              "      <td>10</td>\n",
              "      <td>9</td>\n",
              "      <td>4</td>\n",
              "      <td>7</td>\n",
              "      <td>6</td>\n",
              "      <td>3</td>\n",
              "      <td>7</td>\n",
              "      <td>4</td>\n",
              "      <td>7</td>\n",
              "      <td>5</td>\n",
              "      <td>10</td>\n",
              "      <td>9</td>\n",
              "      <td>4</td>\n",
              "      <td>8</td>\n",
              "      <td>6</td>\n",
              "    </tr>\n",
              "  </tbody>\n",
              "</table>\n",
              "</div>\n",
              "      <button class=\"colab-df-convert\" onclick=\"convertToInteractive('df-75c385f1-d09f-4b6b-8d2e-28b373233397')\"\n",
              "              title=\"Convert this dataframe to an interactive table.\"\n",
              "              style=\"display:none;\">\n",
              "        \n",
              "  <svg xmlns=\"http://www.w3.org/2000/svg\" height=\"24px\"viewBox=\"0 0 24 24\"\n",
              "       width=\"24px\">\n",
              "    <path d=\"M0 0h24v24H0V0z\" fill=\"none\"/>\n",
              "    <path d=\"M18.56 5.44l.94 2.06.94-2.06 2.06-.94-2.06-.94-.94-2.06-.94 2.06-2.06.94zm-11 1L8.5 8.5l.94-2.06 2.06-.94-2.06-.94L8.5 2.5l-.94 2.06-2.06.94zm10 10l.94 2.06.94-2.06 2.06-.94-2.06-.94-.94-2.06-.94 2.06-2.06.94z\"/><path d=\"M17.41 7.96l-1.37-1.37c-.4-.4-.92-.59-1.43-.59-.52 0-1.04.2-1.43.59L10.3 9.45l-7.72 7.72c-.78.78-.78 2.05 0 2.83L4 21.41c.39.39.9.59 1.41.59.51 0 1.02-.2 1.41-.59l7.78-7.78 2.81-2.81c.8-.78.8-2.07 0-2.86zM5.41 20L4 18.59l7.72-7.72 1.47 1.35L5.41 20z\"/>\n",
              "  </svg>\n",
              "      </button>\n",
              "      \n",
              "  <style>\n",
              "    .colab-df-container {\n",
              "      display:flex;\n",
              "      flex-wrap:wrap;\n",
              "      gap: 12px;\n",
              "    }\n",
              "\n",
              "    .colab-df-convert {\n",
              "      background-color: #E8F0FE;\n",
              "      border: none;\n",
              "      border-radius: 50%;\n",
              "      cursor: pointer;\n",
              "      display: none;\n",
              "      fill: #1967D2;\n",
              "      height: 32px;\n",
              "      padding: 0 0 0 0;\n",
              "      width: 32px;\n",
              "    }\n",
              "\n",
              "    .colab-df-convert:hover {\n",
              "      background-color: #E2EBFA;\n",
              "      box-shadow: 0px 1px 2px rgba(60, 64, 67, 0.3), 0px 1px 3px 1px rgba(60, 64, 67, 0.15);\n",
              "      fill: #174EA6;\n",
              "    }\n",
              "\n",
              "    [theme=dark] .colab-df-convert {\n",
              "      background-color: #3B4455;\n",
              "      fill: #D2E3FC;\n",
              "    }\n",
              "\n",
              "    [theme=dark] .colab-df-convert:hover {\n",
              "      background-color: #434B5C;\n",
              "      box-shadow: 0px 1px 3px 1px rgba(0, 0, 0, 0.15);\n",
              "      filter: drop-shadow(0px 1px 2px rgba(0, 0, 0, 0.3));\n",
              "      fill: #FFFFFF;\n",
              "    }\n",
              "  </style>\n",
              "\n",
              "      <script>\n",
              "        const buttonEl =\n",
              "          document.querySelector('#df-75c385f1-d09f-4b6b-8d2e-28b373233397 button.colab-df-convert');\n",
              "        buttonEl.style.display =\n",
              "          google.colab.kernel.accessAllowed ? 'block' : 'none';\n",
              "\n",
              "        async function convertToInteractive(key) {\n",
              "          const element = document.querySelector('#df-75c385f1-d09f-4b6b-8d2e-28b373233397');\n",
              "          const dataTable =\n",
              "            await google.colab.kernel.invokeFunction('convertToInteractive',\n",
              "                                                     [key], {});\n",
              "          if (!dataTable) return;\n",
              "\n",
              "          const docLinkHtml = 'Like what you see? Visit the ' +\n",
              "            '<a target=\"_blank\" href=https://colab.research.google.com/notebooks/data_table.ipynb>data table notebook</a>'\n",
              "            + ' to learn more about interactive tables.';\n",
              "          element.innerHTML = '';\n",
              "          dataTable['output_type'] = 'display_data';\n",
              "          await google.colab.output.renderOutput(dataTable, element);\n",
              "          const docLink = document.createElement('div');\n",
              "          docLink.innerHTML = docLinkHtml;\n",
              "          element.appendChild(docLink);\n",
              "        }\n",
              "      </script>\n",
              "    </div>\n",
              "  </div>\n",
              "  "
            ]
          },
          "metadata": {},
          "execution_count": 90
        }
      ]
    },
    {
      "cell_type": "code",
      "source": [
        "import seaborn as sns\n",
        "sns.displot(Alumnos)"
      ],
      "metadata": {
        "colab": {
          "base_uri": "https://localhost:8080/",
          "height": 386
        },
        "id": "bOw-9Lae4aVs",
        "outputId": "755cfc67-4b6f-4d41-ab30-ae6e0742b95b"
      },
      "execution_count": null,
      "outputs": [
        {
          "output_type": "execute_result",
          "data": {
            "text/plain": [
              "<seaborn.axisgrid.FacetGrid at 0x7f24dbb78510>"
            ]
          },
          "metadata": {},
          "execution_count": 91
        },
        {
          "output_type": "display_data",
          "data": {
            "text/plain": [
              "<Figure size 444.5x360 with 1 Axes>"
            ],
            "image/png": "[encoded data removed]"
          },
          "metadata": {
            "needs_background": "light"
          }
        }
      ]
    },
    {
      "cell_type": "code",
      "source": [
        "dfalumnos.iloc[0]"
      ],
      "metadata": {
        "colab": {
          "base_uri": "https://localhost:8080/"
        },
        "id": "3CCBcCSC6RvX",
        "outputId": "c3ac8d75-0388-4c28-dbe3-ce34c3962db8"
      },
      "execution_count": null,
      "outputs": [
        {
          "output_type": "execute_result",
          "data": {
            "text/plain": [
              "Rodolfo       6\n",
              "Andrea       18\n",
              "Rocio        20\n",
              "Ariadna       2\n",
              "Mariana      16\n",
              "Patricio      4\n",
              "Emilia        2\n",
              "Lucia         7\n",
              "Renata        3\n",
              "Bruno         1\n",
              "Dayana        2\n",
              "Valentina     1\n",
              "Luciana       3\n",
              "Mar           2\n",
              "Ana           7\n",
              "Alaia         3\n",
              "Daniel        5\n",
              "JuanPablo     3\n",
              "Roberta       7\n",
              "Marcela       9\n",
              "Name: horas de estudio, dtype: int64"
            ]
          },
          "metadata": {},
          "execution_count": 93
        }
      ]
    },
    {
      "cell_type": "code",
      "source": [
        "dfalumnos.iloc[1]"
      ],
      "metadata": {
        "colab": {
          "base_uri": "https://localhost:8080/"
        },
        "id": "K31YhDWU6nyd",
        "outputId": "c0a4a4d0-b61f-4c39-92c1-1a77d74cce7d"
      },
      "execution_count": null,
      "outputs": [
        {
          "output_type": "execute_result",
          "data": {
            "text/plain": [
              "Rodolfo      10\n",
              "Andrea        9\n",
              "Rocio         6\n",
              "Ariadna       5\n",
              "Mariana       8\n",
              "Patricio     10\n",
              "Emilia        9\n",
              "Lucia         4\n",
              "Renata        7\n",
              "Bruno         6\n",
              "Dayana        3\n",
              "Valentina     7\n",
              "Luciana       4\n",
              "Mar           7\n",
              "Ana           5\n",
              "Alaia        10\n",
              "Daniel        9\n",
              "JuanPablo     4\n",
              "Roberta       8\n",
              "Marcela       6\n",
              "Name: calificacion, dtype: int64"
            ]
          },
          "metadata": {},
          "execution_count": 98
        }
      ]
    },
    {
      "cell_type": "code",
      "source": [
        "dfalumnos.iloc[0].min()"
      ],
      "metadata": {
        "colab": {
          "base_uri": "https://localhost:8080/"
        },
        "id": "mIeEWuTJ6Tta",
        "outputId": "e9cec768-c283-4655-b2db-9735bfd8b3db"
      },
      "execution_count": null,
      "outputs": [
        {
          "output_type": "execute_result",
          "data": {
            "text/plain": [
              "1"
            ]
          },
          "metadata": {},
          "execution_count": 94
        }
      ]
    },
    {
      "cell_type": "code",
      "source": [
        "dfalumnos.iloc[0].max()"
      ],
      "metadata": {
        "colab": {
          "base_uri": "https://localhost:8080/"
        },
        "id": "vyyOvnWP6Xr0",
        "outputId": "ebbc540f-95fb-4d28-f8f7-357ebf7bf0ec"
      },
      "execution_count": null,
      "outputs": [
        {
          "output_type": "execute_result",
          "data": {
            "text/plain": [
              "20"
            ]
          },
          "metadata": {},
          "execution_count": 95
        }
      ]
    },
    {
      "cell_type": "code",
      "source": [
        "dfalumnos.iloc[1].min()"
      ],
      "metadata": {
        "colab": {
          "base_uri": "https://localhost:8080/"
        },
        "id": "pD18BW4u6rHM",
        "outputId": "3ad0369b-6d2c-469b-d979-f58dc5d5c27a"
      },
      "execution_count": null,
      "outputs": [
        {
          "output_type": "execute_result",
          "data": {
            "text/plain": [
              "3"
            ]
          },
          "metadata": {},
          "execution_count": 99
        }
      ]
    },
    {
      "cell_type": "code",
      "source": [
        "dfalumnos.iloc[1].max()"
      ],
      "metadata": {
        "colab": {
          "base_uri": "https://localhost:8080/"
        },
        "id": "CBfhWwDV6uGD",
        "outputId": "1acaee59-02c6-448e-f57c-f3854ad79a9d"
      },
      "execution_count": null,
      "outputs": [
        {
          "output_type": "execute_result",
          "data": {
            "text/plain": [
              "10"
            ]
          },
          "metadata": {},
          "execution_count": 100
        }
      ]
    },
    {
      "cell_type": "code",
      "source": [
        "dfalumnos.iloc[0].mean()"
      ],
      "metadata": {
        "colab": {
          "base_uri": "https://localhost:8080/"
        },
        "id": "H8EiECSm6gno",
        "outputId": "11ed33a4-2902-432d-87e7-5f277315dc2a"
      },
      "execution_count": null,
      "outputs": [
        {
          "output_type": "execute_result",
          "data": {
            "text/plain": [
              "6.05"
            ]
          },
          "metadata": {},
          "execution_count": 96
        }
      ]
    },
    {
      "cell_type": "code",
      "source": [
        "dfalumnos.iloc[1].mean()"
      ],
      "metadata": {
        "colab": {
          "base_uri": "https://localhost:8080/"
        },
        "id": "_8k0Y-LF6jOH",
        "outputId": "9ec63fa2-99bd-4332-803b-115af0d624e4"
      },
      "execution_count": null,
      "outputs": [
        {
          "output_type": "execute_result",
          "data": {
            "text/plain": [
              "6.85"
            ]
          },
          "metadata": {},
          "execution_count": 97
        }
      ]
    },
    {
      "cell_type": "code",
      "source": [
        "dfalumnos.describe()"
      ],
      "metadata": {
        "colab": {
          "base_uri": "https://localhost:8080/",
          "height": 361
        },
        "id": "nN0iap8F5niK",
        "outputId": "e318a38e-18e8-4a70-a389-1b05246990a8"
      },
      "execution_count": null,
      "outputs": [
        {
          "output_type": "execute_result",
          "data": {
            "text/plain": [
              "         Rodolfo     Andrea      Rocio  Ariadna    Mariana   Patricio  \\\n",
              "count   2.000000   2.000000   2.000000  2.00000   2.000000   2.000000   \n",
              "mean    8.000000  13.500000  13.000000  3.50000  12.000000   7.000000   \n",
              "std     2.828427   6.363961   9.899495  2.12132   5.656854   4.242641   \n",
              "min     6.000000   9.000000   6.000000  2.00000   8.000000   4.000000   \n",
              "25%     7.000000  11.250000   9.500000  2.75000  10.000000   5.500000   \n",
              "50%     8.000000  13.500000  13.000000  3.50000  12.000000   7.000000   \n",
              "75%     9.000000  15.750000  16.500000  4.25000  14.000000   8.500000   \n",
              "max    10.000000  18.000000  20.000000  5.00000  16.000000  10.000000   \n",
              "\n",
              "         Emilia    Lucia    Renata     Bruno    Dayana  Valentina   Luciana  \\\n",
              "count  2.000000  2.00000  2.000000  2.000000  2.000000   2.000000  2.000000   \n",
              "mean   5.500000  5.50000  5.000000  3.500000  2.500000   4.000000  3.500000   \n",
              "std    4.949747  2.12132  2.828427  3.535534  0.707107   4.242641  0.707107   \n",
              "min    2.000000  4.00000  3.000000  1.000000  2.000000   1.000000  3.000000   \n",
              "25%    3.750000  4.75000  4.000000  2.250000  2.250000   2.500000  3.250000   \n",
              "50%    5.500000  5.50000  5.000000  3.500000  2.500000   4.000000  3.500000   \n",
              "75%    7.250000  6.25000  6.000000  4.750000  2.750000   5.500000  3.750000   \n",
              "max    9.000000  7.00000  7.000000  6.000000  3.000000   7.000000  4.000000   \n",
              "\n",
              "            Mar       Ana      Alaia    Daniel  JuanPablo   Roberta  Marcela  \n",
              "count  2.000000  2.000000   2.000000  2.000000   2.000000  2.000000  2.00000  \n",
              "mean   4.500000  6.000000   6.500000  7.000000   3.500000  7.500000  7.50000  \n",
              "std    3.535534  1.414214   4.949747  2.828427   0.707107  0.707107  2.12132  \n",
              "min    2.000000  5.000000   3.000000  5.000000   3.000000  7.000000  6.00000  \n",
              "25%    3.250000  5.500000   4.750000  6.000000   3.250000  7.250000  6.75000  \n",
              "50%    4.500000  6.000000   6.500000  7.000000   3.500000  7.500000  7.50000  \n",
              "75%    5.750000  6.500000   8.250000  8.000000   3.750000  7.750000  8.25000  \n",
              "max    7.000000  7.000000  10.000000  9.000000   4.000000  8.000000  9.00000  "
            ],
            "text/html": [
              "\n",
              "  <div id=\"df-aea3aca5-187f-4c98-9883-3c8ecb5bcd77\">\n",
              "    <div class=\"colab-df-container\">\n",
              "      <div>\n",
              "<style scoped>\n",
              "    .dataframe tbody tr th:only-of-type {\n",
              "        vertical-align: middle;\n",
              "    }\n",
              "\n",
              "    .dataframe tbody tr th {\n",
              "        vertical-align: top;\n",
              "    }\n",
              "\n",
              "    .dataframe thead th {\n",
              "        text-align: right;\n",
              "    }\n",
              "</style>\n",
              "<table border=\"1\" class=\"dataframe\">\n",
              "  <thead>\n",
              "    <tr style=\"text-align: right;\">\n",
              "      <th></th>\n",
              "      <th>Rodolfo</th>\n",
              "      <th>Andrea</th>\n",
              "      <th>Rocio</th>\n",
              "      <th>Ariadna</th>\n",
              "      <th>Mariana</th>\n",
              "      <th>Patricio</th>\n",
              "      <th>Emilia</th>\n",
              "      <th>Lucia</th>\n",
              "      <th>Renata</th>\n",
              "      <th>Bruno</th>\n",
              "      <th>Dayana</th>\n",
              "      <th>Valentina</th>\n",
              "      <th>Luciana</th>\n",
              "      <th>Mar</th>\n",
              "      <th>Ana</th>\n",
              "      <th>Alaia</th>\n",
              "      <th>Daniel</th>\n",
              "      <th>JuanPablo</th>\n",
              "      <th>Roberta</th>\n",
              "      <th>Marcela</th>\n",
              "    </tr>\n",
              "  </thead>\n",
              "  <tbody>\n",
              "    <tr>\n",
              "      <th>count</th>\n",
              "      <td>2.000000</td>\n",
              "      <td>2.000000</td>\n",
              "      <td>2.000000</td>\n",
              "      <td>2.00000</td>\n",
              "      <td>2.000000</td>\n",
              "      <td>2.000000</td>\n",
              "      <td>2.000000</td>\n",
              "      <td>2.00000</td>\n",
              "      <td>2.000000</td>\n",
              "      <td>2.000000</td>\n",
              "      <td>2.000000</td>\n",
              "      <td>2.000000</td>\n",
              "      <td>2.000000</td>\n",
              "      <td>2.000000</td>\n",
              "      <td>2.000000</td>\n",
              "      <td>2.000000</td>\n",
              "      <td>2.000000</td>\n",
              "      <td>2.000000</td>\n",
              "      <td>2.000000</td>\n",
              "      <td>2.00000</td>\n",
              "    </tr>\n",
              "    <tr>\n",
              "      <th>mean</th>\n",
              "      <td>8.000000</td>\n",
              "      <td>13.500000</td>\n",
              "      <td>13.000000</td>\n",
              "      <td>3.50000</td>\n",
              "      <td>12.000000</td>\n",
              "      <td>7.000000</td>\n",
              "      <td>5.500000</td>\n",
              "      <td>5.50000</td>\n",
              "      <td>5.000000</td>\n",
              "      <td>3.500000</td>\n",
              "      <td>2.500000</td>\n",
              "      <td>4.000000</td>\n",
              "      <td>3.500000</td>\n",
              "      <td>4.500000</td>\n",
              "      <td>6.000000</td>\n",
              "      <td>6.500000</td>\n",
              "      <td>7.000000</td>\n",
              "      <td>3.500000</td>\n",
              "      <td>7.500000</td>\n",
              "      <td>7.50000</td>\n",
              "    </tr>\n",
              "    <tr>\n",
              "      <th>std</th>\n",
              "      <td>2.828427</td>\n",
              "      <td>6.363961</td>\n",
              "      <td>9.899495</td>\n",
              "      <td>2.12132</td>\n",
              "      <td>5.656854</td>\n",
              "      <td>4.242641</td>\n",
              "      <td>4.949747</td>\n",
              "      <td>2.12132</td>\n",
              "      <td>2.828427</td>\n",
              "      <td>3.535534</td>\n",
              "      <td>0.707107</td>\n",
              "      <td>4.242641</td>\n",
              "      <td>0.707107</td>\n",
              "      <td>3.535534</td>\n",
              "      <td>1.414214</td>\n",
              "      <td>4.949747</td>\n",
              "      <td>2.828427</td>\n",
              "      <td>0.707107</td>\n",
              "      <td>0.707107</td>\n",
              "      <td>2.12132</td>\n",
              "    </tr>\n",
              "    <tr>\n",
              "      <th>min</th>\n",
              "      <td>6.000000</td>\n",
              "      <td>9.000000</td>\n",
              "      <td>6.000000</td>\n",
              "      <td>2.00000</td>\n",
              "      <td>8.000000</td>\n",
              "      <td>4.000000</td>\n",
              "      <td>2.000000</td>\n",
              "      <td>4.00000</td>\n",
              "      <td>3.000000</td>\n",
              "      <td>1.000000</td>\n",
              "      <td>2.000000</td>\n",
              "      <td>1.000000</td>\n",
              "      <td>3.000000</td>\n",
              "      <td>2.000000</td>\n",
              "      <td>5.000000</td>\n",
              "      <td>3.000000</td>\n",
              "      <td>5.000000</td>\n",
              "      <td>3.000000</td>\n",
              "      <td>7.000000</td>\n",
              "      <td>6.00000</td>\n",
              "    </tr>\n",
              "    <tr>\n",
              "      <th>25%</th>\n",
              "      <td>7.000000</td>\n",
              "      <td>11.250000</td>\n",
              "      <td>9.500000</td>\n",
              "      <td>2.75000</td>\n",
              "      <td>10.000000</td>\n",
              "      <td>5.500000</td>\n",
              "      <td>3.750000</td>\n",
              "      <td>4.75000</td>\n",
              "      <td>4.000000</td>\n",
              "      <td>2.250000</td>\n",
              "      <td>2.250000</td>\n",
              "      <td>2.500000</td>\n",
              "      <td>3.250000</td>\n",
              "      <td>3.250000</td>\n",
              "      <td>5.500000</td>\n",
              "      <td>4.750000</td>\n",
              "      <td>6.000000</td>\n",
              "      <td>3.250000</td>\n",
              "      <td>7.250000</td>\n",
              "      <td>6.75000</td>\n",
              "    </tr>\n",
              "    <tr>\n",
              "      <th>50%</th>\n",
              "      <td>8.000000</td>\n",
              "      <td>13.500000</td>\n",
              "      <td>13.000000</td>\n",
              "      <td>3.50000</td>\n",
              "      <td>12.000000</td>\n",
              "      <td>7.000000</td>\n",
              "      <td>5.500000</td>\n",
              "      <td>5.50000</td>\n",
              "      <td>5.000000</td>\n",
              "      <td>3.500000</td>\n",
              "      <td>2.500000</td>\n",
              "      <td>4.000000</td>\n",
              "      <td>3.500000</td>\n",
              "      <td>4.500000</td>\n",
              "      <td>6.000000</td>\n",
              "      <td>6.500000</td>\n",
              "      <td>7.000000</td>\n",
              "      <td>3.500000</td>\n",
              "      <td>7.500000</td>\n",
              "      <td>7.50000</td>\n",
              "    </tr>\n",
              "    <tr>\n",
              "      <th>75%</th>\n",
              "      <td>9.000000</td>\n",
              "      <td>15.750000</td>\n",
              "      <td>16.500000</td>\n",
              "      <td>4.25000</td>\n",
              "      <td>14.000000</td>\n",
              "      <td>8.500000</td>\n",
              "      <td>7.250000</td>\n",
              "      <td>6.25000</td>\n",
              "      <td>6.000000</td>\n",
              "      <td>4.750000</td>\n",
              "      <td>2.750000</td>\n",
              "      <td>5.500000</td>\n",
              "      <td>3.750000</td>\n",
              "      <td>5.750000</td>\n",
              "      <td>6.500000</td>\n",
              "      <td>8.250000</td>\n",
              "      <td>8.000000</td>\n",
              "      <td>3.750000</td>\n",
              "      <td>7.750000</td>\n",
              "      <td>8.25000</td>\n",
              "    </tr>\n",
              "    <tr>\n",
              "      <th>max</th>\n",
              "      <td>10.000000</td>\n",
              "      <td>18.000000</td>\n",
              "      <td>20.000000</td>\n",
              "      <td>5.00000</td>\n",
              "      <td>16.000000</td>\n",
              "      <td>10.000000</td>\n",
              "      <td>9.000000</td>\n",
              "      <td>7.00000</td>\n",
              "      <td>7.000000</td>\n",
              "      <td>6.000000</td>\n",
              "      <td>3.000000</td>\n",
              "      <td>7.000000</td>\n",
              "      <td>4.000000</td>\n",
              "      <td>7.000000</td>\n",
              "      <td>7.000000</td>\n",
              "      <td>10.000000</td>\n",
              "      <td>9.000000</td>\n",
              "      <td>4.000000</td>\n",
              "      <td>8.000000</td>\n",
              "      <td>9.00000</td>\n",
              "    </tr>\n",
              "  </tbody>\n",
              "</table>\n",
              "</div>\n",
              "      <button class=\"colab-df-convert\" onclick=\"convertToInteractive('df-aea3aca5-187f-4c98-9883-3c8ecb5bcd77')\"\n",
              "              title=\"Convert this dataframe to an interactive table.\"\n",
              "              style=\"display:none;\">\n",
              "        \n",
              "  <svg xmlns=\"http://www.w3.org/2000/svg\" height=\"24px\"viewBox=\"0 0 24 24\"\n",
              "       width=\"24px\">\n",
              "    <path d=\"M0 0h24v24H0V0z\" fill=\"none\"/>\n",
              "    <path d=\"M18.56 5.44l.94 2.06.94-2.06 2.06-.94-2.06-.94-.94-2.06-.94 2.06-2.06.94zm-11 1L8.5 8.5l.94-2.06 2.06-.94-2.06-.94L8.5 2.5l-.94 2.06-2.06.94zm10 10l.94 2.06.94-2.06 2.06-.94-2.06-.94-.94-2.06-.94 2.06-2.06.94z\"/><path d=\"M17.41 7.96l-1.37-1.37c-.4-.4-.92-.59-1.43-.59-.52 0-1.04.2-1.43.59L10.3 9.45l-7.72 7.72c-.78.78-.78 2.05 0 2.83L4 21.41c.39.39.9.59 1.41.59.51 0 1.02-.2 1.41-.59l7.78-7.78 2.81-2.81c.8-.78.8-2.07 0-2.86zM5.41 20L4 18.59l7.72-7.72 1.47 1.35L5.41 20z\"/>\n",
              "  </svg>\n",
              "      </button>\n",
              "      \n",
              "  <style>\n",
              "    .colab-df-container {\n",
              "      display:flex;\n",
              "      flex-wrap:wrap;\n",
              "      gap: 12px;\n",
              "    }\n",
              "\n",
              "    .colab-df-convert {\n",
              "      background-color: #E8F0FE;\n",
              "      border: none;\n",
              "      border-radius: 50%;\n",
              "      cursor: pointer;\n",
              "      display: none;\n",
              "      fill: #1967D2;\n",
              "      height: 32px;\n",
              "      padding: 0 0 0 0;\n",
              "      width: 32px;\n",
              "    }\n",
              "\n",
              "    .colab-df-convert:hover {\n",
              "      background-color: #E2EBFA;\n",
              "      box-shadow: 0px 1px 2px rgba(60, 64, 67, 0.3), 0px 1px 3px 1px rgba(60, 64, 67, 0.15);\n",
              "      fill: #174EA6;\n",
              "    }\n",
              "\n",
              "    [theme=dark] .colab-df-convert {\n",
              "      background-color: #3B4455;\n",
              "      fill: #D2E3FC;\n",
              "    }\n",
              "\n",
              "    [theme=dark] .colab-df-convert:hover {\n",
              "      background-color: #434B5C;\n",
              "      box-shadow: 0px 1px 3px 1px rgba(0, 0, 0, 0.15);\n",
              "      filter: drop-shadow(0px 1px 2px rgba(0, 0, 0, 0.3));\n",
              "      fill: #FFFFFF;\n",
              "    }\n",
              "  </style>\n",
              "\n",
              "      <script>\n",
              "        const buttonEl =\n",
              "          document.querySelector('#df-aea3aca5-187f-4c98-9883-3c8ecb5bcd77 button.colab-df-convert');\n",
              "        buttonEl.style.display =\n",
              "          google.colab.kernel.accessAllowed ? 'block' : 'none';\n",
              "\n",
              "        async function convertToInteractive(key) {\n",
              "          const element = document.querySelector('#df-aea3aca5-187f-4c98-9883-3c8ecb5bcd77');\n",
              "          const dataTable =\n",
              "            await google.colab.kernel.invokeFunction('convertToInteractive',\n",
              "                                                     [key], {});\n",
              "          if (!dataTable) return;\n",
              "\n",
              "          const docLinkHtml = 'Like what you see? Visit the ' +\n",
              "            '<a target=\"_blank\" href=https://colab.research.google.com/notebooks/data_table.ipynb>data table notebook</a>'\n",
              "            + ' to learn more about interactive tables.';\n",
              "          element.innerHTML = '';\n",
              "          dataTable['output_type'] = 'display_data';\n",
              "          await google.colab.output.renderOutput(dataTable, element);\n",
              "          const docLink = document.createElement('div');\n",
              "          docLink.innerHTML = docLinkHtml;\n",
              "          element.appendChild(docLink);\n",
              "        }\n",
              "      </script>\n",
              "    </div>\n",
              "  </div>\n",
              "  "
            ]
          },
          "metadata": {},
          "execution_count": 92
        }
      ]
    }
  ]
}