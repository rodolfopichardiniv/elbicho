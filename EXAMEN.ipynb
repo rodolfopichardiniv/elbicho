{
  "nbformat": 4,
  "nbformat_minor": 0,
  "metadata": {
    "colab": {
      "provenance": []
    },
    "kernelspec": {
      "name": "python3",
      "display_name": "Python 3"
    },
    "language_info": {
      "name": "python"
    }
  },
  "cells": [
    {
      "cell_type": "code",
      "execution_count": null,
      "metadata": {
        "id": "C0J4ufyi6Lnj"
      },
      "outputs": [],
      "source": []
    },
    {
      "cell_type": "markdown",
      "source": [
        "#  RODOLFO PICHARDINI\n",
        "0203451\n"
      ],
      "metadata": {
        "id": "1YAloBQp7T5e"
      }
    }
  ]
}